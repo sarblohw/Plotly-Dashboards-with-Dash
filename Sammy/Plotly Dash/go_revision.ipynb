{
 "cells": [
  {
   "cell_type": "code",
   "execution_count": 1,
   "metadata": {
    "collapsed": true
   },
   "outputs": [],
   "source": [
    "import pandas as pd\n",
    "import plotly.offline as pyo\n",
    "import plotly.graph_objects as go\n",
    "import plotly.express as px"
   ]
  },
  {
   "cell_type": "code",
   "execution_count": 9,
   "metadata": {},
   "outputs": [],
   "source": [
    "iris = px.data.iris()"
   ]
  },
  {
   "cell_type": "code",
   "execution_count": 10,
   "metadata": {},
   "outputs": [
    {
     "data": {
      "text/html": [
       "<div>\n",
       "<style scoped>\n",
       "    .dataframe tbody tr th:only-of-type {\n",
       "        vertical-align: middle;\n",
       "    }\n",
       "\n",
       "    .dataframe tbody tr th {\n",
       "        vertical-align: top;\n",
       "    }\n",
       "\n",
       "    .dataframe thead th {\n",
       "        text-align: right;\n",
       "    }\n",
       "</style>\n",
       "<table border=\"1\" class=\"dataframe\">\n",
       "  <thead>\n",
       "    <tr style=\"text-align: right;\">\n",
       "      <th></th>\n",
       "      <th>sepal_length</th>\n",
       "      <th>sepal_width</th>\n",
       "      <th>petal_length</th>\n",
       "      <th>petal_width</th>\n",
       "      <th>species</th>\n",
       "      <th>species_id</th>\n",
       "    </tr>\n",
       "  </thead>\n",
       "  <tbody>\n",
       "    <tr>\n",
       "      <th>0</th>\n",
       "      <td>5.1</td>\n",
       "      <td>3.5</td>\n",
       "      <td>1.4</td>\n",
       "      <td>0.2</td>\n",
       "      <td>setosa</td>\n",
       "      <td>1</td>\n",
       "    </tr>\n",
       "    <tr>\n",
       "      <th>1</th>\n",
       "      <td>4.9</td>\n",
       "      <td>3.0</td>\n",
       "      <td>1.4</td>\n",
       "      <td>0.2</td>\n",
       "      <td>setosa</td>\n",
       "      <td>1</td>\n",
       "    </tr>\n",
       "    <tr>\n",
       "      <th>2</th>\n",
       "      <td>4.7</td>\n",
       "      <td>3.2</td>\n",
       "      <td>1.3</td>\n",
       "      <td>0.2</td>\n",
       "      <td>setosa</td>\n",
       "      <td>1</td>\n",
       "    </tr>\n",
       "  </tbody>\n",
       "</table>\n",
       "</div>"
      ],
      "text/plain": [
       "   sepal_length  sepal_width  petal_length  petal_width species  species_id\n",
       "0           5.1          3.5           1.4          0.2  setosa           1\n",
       "1           4.9          3.0           1.4          0.2  setosa           1\n",
       "2           4.7          3.2           1.3          0.2  setosa           1"
      ]
     },
     "execution_count": 10,
     "metadata": {},
     "output_type": "execute_result"
    }
   ],
   "source": [
    "iris.head(3)"
   ]
  },
  {
   "cell_type": "code",
   "execution_count": 13,
   "metadata": {},
   "outputs": [
    {
     "data": {
      "text/plain": [
       "'temp-plot.html'"
      ]
     },
     "execution_count": 13,
     "metadata": {},
     "output_type": "execute_result"
    }
   ],
   "source": [
    "trace = go.Scatter(\n",
    "    x = iris.sepal_length,\n",
    "    y = iris.sepal_width,\n",
    "    mode = 'markers',\n",
    "    marker = dict(\n",
    "        size = 10,\n",
    "        color = 'rgb(100, 40, 130)',\n",
    "        symbol = 'y-up-open',\n",
    "        line = dict(\n",
    "            width = 2\n",
    "        )\n",
    "    )\n",
    ")\n",
    "\n",
    "layout = go.Layout(\n",
    "    title = 'Sepal Length by Sepal Width',\n",
    "    xaxis = dict(\n",
    "        title = 'Sepal Length'\n",
    "    ),\n",
    "    yaxis = dict(\n",
    "        title = 'Sepal Width'\n",
    "    )\n",
    ")\n",
    "\n",
    "data = [trace]\n",
    "fig = go.Figure(data=data, layout=layout)\n",
    "pyo.plot(fig, filename='temp-plot.html')"
   ]
  },
  {
   "cell_type": "code",
   "execution_count": 15,
   "metadata": {},
   "outputs": [],
   "source": [
    "import numpy as np\n",
    "\n",
    "np.random.seed(56)\n",
    "\n",
    "x_values = np.linspace(0,1,100)\n",
    "y_values = np.random.randn(100)"
   ]
  },
  {
   "cell_type": "code",
   "execution_count": 16,
   "metadata": {},
   "outputs": [
    {
     "name": "stderr",
     "output_type": "stream",
     "text": [
      "/home/sammy/.conda/envs/newConda/lib/python3.8/site-packages/plotly/graph_objs/_deprecations.py:378: DeprecationWarning:\n",
      "\n",
      "plotly.graph_objs.Line is deprecated.\n",
      "Please replace it with one of the following more specific types\n",
      "  - plotly.graph_objs.scatter.Line\n",
      "  - plotly.graph_objs.layout.shape.Line\n",
      "  - etc.\n",
      "\n",
      "\n"
     ]
    },
    {
     "data": {
      "text/plain": [
       "'temp-plot.html'"
      ]
     },
     "execution_count": 16,
     "metadata": {},
     "output_type": "execute_result"
    }
   ],
   "source": [
    "trace = go.Line(\n",
    "    x = x_values,\n",
    "    y = y_values\n",
    ")\n",
    "\n",
    "data = [trace]\n",
    "fig = go.Figure(data=data)\n",
    "pyo.plot(fig)"
   ]
  },
  {
   "cell_type": "code",
   "execution_count": 22,
   "metadata": {},
   "outputs": [
    {
     "data": {
      "text/plain": [
       "'temp-plot.html'"
      ]
     },
     "execution_count": 22,
     "metadata": {},
     "output_type": "execute_result"
    }
   ],
   "source": [
    "trace_0 = go.Scatter(\n",
    "    x = x_values,\n",
    "    y = y_values,\n",
    "    mode = 'markers+lines',\n",
    "    marker = dict(\n",
    "        symbol = 'pentagon',\n",
    "        size = 12,\n",
    "        line = dict(\n",
    "            width = 2\n",
    "        )\n",
    "    )\n",
    ")\n",
    "\n",
    "trace_1 = go.Scatter(\n",
    "    x = x_values,\n",
    "    y = y_values+10,\n",
    "    mode = 'markers'\n",
    ")\n",
    "\n",
    "data = [trace_0, trace_1]\n",
    "fig = go.Figure(data=data)\n",
    "pyo.plot(fig)"
   ]
  },
  {
   "cell_type": "code",
   "execution_count": 23,
   "metadata": {},
   "outputs": [],
   "source": [
    "file = r'/home/sammy/Documents/GitHub/Plotly-Dashboards-with-Dash/Data/2018WinterOlympics.csv'\n",
    "df = pd.read_csv(file)"
   ]
  },
  {
   "cell_type": "code",
   "execution_count": 24,
   "outputs": [
    {
     "data": {
      "text/plain": "    Rank                NOC  Gold  Silver  Bronze  Total\n0      1             Norway    14      14      11     39\n1      2            Germany    14      10       7     31\n2      3             Canada    11       8      10     29\n3      4      United States     9       8       6     23\n4      5        Netherlands     8       6       6     20\n5      6             Sweden     7       6       1     14\n6      7  Republic of Korea     5       8       4     17\n7      8        Switzerland     5       6       4     15\n8      9             France     5       4       6     15\n9     10            Austria     5       3       6     14\n10    11              Japan     4       5       4     13\n11    12              Italy     3       2       5     10\n12    13                OAR     2       6       9     17\n13    14     Czech Republic     2       2       3      7\n14    15            Belarus     2       1       0      3\n15    16              China     1       6       2      9\n16    17           Slovakia     1       2       0      3\n17    18            Finland     1       1       4      6\n18    19      Great Britain     1       0       4      5\n19    20             Poland     1       0       1      2\n20    21            Hungary     1       0       0      1\n21    21            Ukraine     1       0       0      1\n22    23          Australia     0       2       1      3\n23    24           Slovenia     0       1       1      2\n24    25            Belgium     0       1       0      1\n25    26              Spain     0       0       2      2\n26    26        New Zealand     0       0       2      2\n27    28         Kazakhstan     0       0       1      1\n28    28             Latvia     0       0       1      1\n29    28      Liechtenstein     0       0       1      1",
      "text/html": "<div>\n<style scoped>\n    .dataframe tbody tr th:only-of-type {\n        vertical-align: middle;\n    }\n\n    .dataframe tbody tr th {\n        vertical-align: top;\n    }\n\n    .dataframe thead th {\n        text-align: right;\n    }\n</style>\n<table border=\"1\" class=\"dataframe\">\n  <thead>\n    <tr style=\"text-align: right;\">\n      <th></th>\n      <th>Rank</th>\n      <th>NOC</th>\n      <th>Gold</th>\n      <th>Silver</th>\n      <th>Bronze</th>\n      <th>Total</th>\n    </tr>\n  </thead>\n  <tbody>\n    <tr>\n      <th>0</th>\n      <td>1</td>\n      <td>Norway</td>\n      <td>14</td>\n      <td>14</td>\n      <td>11</td>\n      <td>39</td>\n    </tr>\n    <tr>\n      <th>1</th>\n      <td>2</td>\n      <td>Germany</td>\n      <td>14</td>\n      <td>10</td>\n      <td>7</td>\n      <td>31</td>\n    </tr>\n    <tr>\n      <th>2</th>\n      <td>3</td>\n      <td>Canada</td>\n      <td>11</td>\n      <td>8</td>\n      <td>10</td>\n      <td>29</td>\n    </tr>\n    <tr>\n      <th>3</th>\n      <td>4</td>\n      <td>United States</td>\n      <td>9</td>\n      <td>8</td>\n      <td>6</td>\n      <td>23</td>\n    </tr>\n    <tr>\n      <th>4</th>\n      <td>5</td>\n      <td>Netherlands</td>\n      <td>8</td>\n      <td>6</td>\n      <td>6</td>\n      <td>20</td>\n    </tr>\n    <tr>\n      <th>5</th>\n      <td>6</td>\n      <td>Sweden</td>\n      <td>7</td>\n      <td>6</td>\n      <td>1</td>\n      <td>14</td>\n    </tr>\n    <tr>\n      <th>6</th>\n      <td>7</td>\n      <td>Republic of Korea</td>\n      <td>5</td>\n      <td>8</td>\n      <td>4</td>\n      <td>17</td>\n    </tr>\n    <tr>\n      <th>7</th>\n      <td>8</td>\n      <td>Switzerland</td>\n      <td>5</td>\n      <td>6</td>\n      <td>4</td>\n      <td>15</td>\n    </tr>\n    <tr>\n      <th>8</th>\n      <td>9</td>\n      <td>France</td>\n      <td>5</td>\n      <td>4</td>\n      <td>6</td>\n      <td>15</td>\n    </tr>\n    <tr>\n      <th>9</th>\n      <td>10</td>\n      <td>Austria</td>\n      <td>5</td>\n      <td>3</td>\n      <td>6</td>\n      <td>14</td>\n    </tr>\n    <tr>\n      <th>10</th>\n      <td>11</td>\n      <td>Japan</td>\n      <td>4</td>\n      <td>5</td>\n      <td>4</td>\n      <td>13</td>\n    </tr>\n    <tr>\n      <th>11</th>\n      <td>12</td>\n      <td>Italy</td>\n      <td>3</td>\n      <td>2</td>\n      <td>5</td>\n      <td>10</td>\n    </tr>\n    <tr>\n      <th>12</th>\n      <td>13</td>\n      <td>OAR</td>\n      <td>2</td>\n      <td>6</td>\n      <td>9</td>\n      <td>17</td>\n    </tr>\n    <tr>\n      <th>13</th>\n      <td>14</td>\n      <td>Czech Republic</td>\n      <td>2</td>\n      <td>2</td>\n      <td>3</td>\n      <td>7</td>\n    </tr>\n    <tr>\n      <th>14</th>\n      <td>15</td>\n      <td>Belarus</td>\n      <td>2</td>\n      <td>1</td>\n      <td>0</td>\n      <td>3</td>\n    </tr>\n    <tr>\n      <th>15</th>\n      <td>16</td>\n      <td>China</td>\n      <td>1</td>\n      <td>6</td>\n      <td>2</td>\n      <td>9</td>\n    </tr>\n    <tr>\n      <th>16</th>\n      <td>17</td>\n      <td>Slovakia</td>\n      <td>1</td>\n      <td>2</td>\n      <td>0</td>\n      <td>3</td>\n    </tr>\n    <tr>\n      <th>17</th>\n      <td>18</td>\n      <td>Finland</td>\n      <td>1</td>\n      <td>1</td>\n      <td>4</td>\n      <td>6</td>\n    </tr>\n    <tr>\n      <th>18</th>\n      <td>19</td>\n      <td>Great Britain</td>\n      <td>1</td>\n      <td>0</td>\n      <td>4</td>\n      <td>5</td>\n    </tr>\n    <tr>\n      <th>19</th>\n      <td>20</td>\n      <td>Poland</td>\n      <td>1</td>\n      <td>0</td>\n      <td>1</td>\n      <td>2</td>\n    </tr>\n    <tr>\n      <th>20</th>\n      <td>21</td>\n      <td>Hungary</td>\n      <td>1</td>\n      <td>0</td>\n      <td>0</td>\n      <td>1</td>\n    </tr>\n    <tr>\n      <th>21</th>\n      <td>21</td>\n      <td>Ukraine</td>\n      <td>1</td>\n      <td>0</td>\n      <td>0</td>\n      <td>1</td>\n    </tr>\n    <tr>\n      <th>22</th>\n      <td>23</td>\n      <td>Australia</td>\n      <td>0</td>\n      <td>2</td>\n      <td>1</td>\n      <td>3</td>\n    </tr>\n    <tr>\n      <th>23</th>\n      <td>24</td>\n      <td>Slovenia</td>\n      <td>0</td>\n      <td>1</td>\n      <td>1</td>\n      <td>2</td>\n    </tr>\n    <tr>\n      <th>24</th>\n      <td>25</td>\n      <td>Belgium</td>\n      <td>0</td>\n      <td>1</td>\n      <td>0</td>\n      <td>1</td>\n    </tr>\n    <tr>\n      <th>25</th>\n      <td>26</td>\n      <td>Spain</td>\n      <td>0</td>\n      <td>0</td>\n      <td>2</td>\n      <td>2</td>\n    </tr>\n    <tr>\n      <th>26</th>\n      <td>26</td>\n      <td>New Zealand</td>\n      <td>0</td>\n      <td>0</td>\n      <td>2</td>\n      <td>2</td>\n    </tr>\n    <tr>\n      <th>27</th>\n      <td>28</td>\n      <td>Kazakhstan</td>\n      <td>0</td>\n      <td>0</td>\n      <td>1</td>\n      <td>1</td>\n    </tr>\n    <tr>\n      <th>28</th>\n      <td>28</td>\n      <td>Latvia</td>\n      <td>0</td>\n      <td>0</td>\n      <td>1</td>\n      <td>1</td>\n    </tr>\n    <tr>\n      <th>29</th>\n      <td>28</td>\n      <td>Liechtenstein</td>\n      <td>0</td>\n      <td>0</td>\n      <td>1</td>\n      <td>1</td>\n    </tr>\n  </tbody>\n</table>\n</div>"
     },
     "execution_count": 24,
     "metadata": {},
     "output_type": "execute_result"
    }
   ],
   "source": [
    "df"
   ],
   "metadata": {
    "collapsed": false
   }
  },
  {
   "cell_type": "code",
   "execution_count": 25,
   "outputs": [
    {
     "data": {
      "text/plain": "'temp-plot.html'"
     },
     "execution_count": 25,
     "metadata": {},
     "output_type": "execute_result"
    }
   ],
   "source": [
    "trace = go.Bar(\n",
    "    x=df.NOC,\n",
    "    y=df.Total,\n",
    "    name='Total Medals'\n",
    ")\n",
    "\n",
    "layout = go.Layout(\n",
    "    title='Total Medals in Winter Olympics 2018'\n",
    ")\n",
    "\n",
    "data = [trace]\n",
    "fig = go.Figure(data=data, layout=layout)\n",
    "pyo.plot(fig, filename='temp-plot.html')"
   ],
   "metadata": {
    "collapsed": false
   }
  },
  {
   "cell_type": "code",
   "execution_count": null,
   "outputs": [],
   "source": [],
   "metadata": {
    "collapsed": false
   }
  }
 ],
 "metadata": {
  "kernelspec": {
   "display_name": "Python 3 (ipykernel)",
   "language": "python",
   "name": "python3"
  },
  "language_info": {
   "codemirror_mode": {
    "name": "ipython",
    "version": 3
   },
   "file_extension": ".py",
   "mimetype": "text/x-python",
   "name": "python",
   "nbconvert_exporter": "python",
   "pygments_lexer": "ipython3",
   "version": "3.10.7"
  }
 },
 "nbformat": 4,
 "nbformat_minor": 1
}
