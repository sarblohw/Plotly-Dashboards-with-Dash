{
 "cells": [
  {
   "cell_type": "code",
   "execution_count": 2,
   "metadata": {
    "collapsed": true
   },
   "outputs": [],
   "source": [
    "import pandas as pd\n",
    "import plotly.offline as pyo\n",
    "import plotly.graph_objects as go"
   ]
  },
  {
   "cell_type": "code",
   "execution_count": 3,
   "outputs": [],
   "source": [
    "file = r'/home/sammy/Documents/GitHub/Plotly-Dashboards-with-Dash/Data/2018WinterOlympics.csv'\n",
    "df = pd.read_csv(file)"
   ],
   "metadata": {
    "collapsed": false
   }
  },
  {
   "cell_type": "code",
   "execution_count": 5,
   "outputs": [
    {
     "data": {
      "text/plain": "   Rank      NOC  Gold  Silver  Bronze  Total\n0     1   Norway    14      14      11     39\n1     2  Germany    14      10       7     31\n2     3   Canada    11       8      10     29",
      "text/html": "<div>\n<style scoped>\n    .dataframe tbody tr th:only-of-type {\n        vertical-align: middle;\n    }\n\n    .dataframe tbody tr th {\n        vertical-align: top;\n    }\n\n    .dataframe thead th {\n        text-align: right;\n    }\n</style>\n<table border=\"1\" class=\"dataframe\">\n  <thead>\n    <tr style=\"text-align: right;\">\n      <th></th>\n      <th>Rank</th>\n      <th>NOC</th>\n      <th>Gold</th>\n      <th>Silver</th>\n      <th>Bronze</th>\n      <th>Total</th>\n    </tr>\n  </thead>\n  <tbody>\n    <tr>\n      <th>0</th>\n      <td>1</td>\n      <td>Norway</td>\n      <td>14</td>\n      <td>14</td>\n      <td>11</td>\n      <td>39</td>\n    </tr>\n    <tr>\n      <th>1</th>\n      <td>2</td>\n      <td>Germany</td>\n      <td>14</td>\n      <td>10</td>\n      <td>7</td>\n      <td>31</td>\n    </tr>\n    <tr>\n      <th>2</th>\n      <td>3</td>\n      <td>Canada</td>\n      <td>11</td>\n      <td>8</td>\n      <td>10</td>\n      <td>29</td>\n    </tr>\n  </tbody>\n</table>\n</div>"
     },
     "execution_count": 5,
     "metadata": {},
     "output_type": "execute_result"
    }
   ],
   "source": [
    "df.head(3)"
   ],
   "metadata": {
    "collapsed": false
   }
  },
  {
   "cell_type": "code",
   "execution_count": 10,
   "outputs": [
    {
     "data": {
      "text/plain": "'temp-plot.html'"
     },
     "execution_count": 10,
     "metadata": {},
     "output_type": "execute_result"
    }
   ],
   "source": [
    "trace = go.Bar(\n",
    "    x=df.NOC,\n",
    "    y=df.Total,\n",
    "    name='Total Medals'\n",
    ")\n",
    "\n",
    "layout = go.Layout(\n",
    "    title='Total Medals in Winter Olympics 2018'\n",
    ")\n",
    "\n",
    "data = [trace]\n",
    "fig = go.Figure(data=data, layout=layout)\n",
    "pyo.plot(fig, filename='temp-plot.html')"
   ],
   "metadata": {
    "collapsed": false
   }
  },
  {
   "cell_type": "code",
   "execution_count": 11,
   "outputs": [
    {
     "data": {
      "text/plain": "'temp-plot.html'"
     },
     "execution_count": 11,
     "metadata": {},
     "output_type": "execute_result"
    }
   ],
   "source": [
    "trace = go.Bar(\n",
    "    x=df.sort_values(by='Total', ascending=False).NOC,\n",
    "    y=df.sort_values(by='Total', ascending=False).Total,\n",
    "    name='Total Medals'\n",
    ")\n",
    "\n",
    "layout = go.Layout(\n",
    "    title='Total Medals in Winter Olympics 2018'\n",
    ")\n",
    "\n",
    "data = [trace]\n",
    "fig = go.Figure(data=data, layout=layout)\n",
    "pyo.plot(fig, filename='temp-plot.html')"
   ],
   "metadata": {
    "collapsed": false
   }
  },
  {
   "cell_type": "code",
   "execution_count": 24,
   "outputs": [
    {
     "data": {
      "text/plain": "'temp-plot.html'"
     },
     "execution_count": 24,
     "metadata": {},
     "output_type": "execute_result"
    }
   ],
   "source": [
    "trace_0 = go.Bar(\n",
    "    x=df.NOC,\n",
    "    y=df.Gold,\n",
    "    name='Gold',\n",
    "    marker={\n",
    "        'color': '#FFD700'\n",
    "    }\n",
    ")\n",
    "\n",
    "trace_1 = go.Bar(\n",
    "    x=df.NOC,\n",
    "    y=df.Silver,\n",
    "    name='Silver',\n",
    "    marker={\n",
    "        'color': '#9EA0A1'\n",
    "    }\n",
    ")\n",
    "\n",
    "trace_2 = go.Bar(\n",
    "    x=df.NOC,\n",
    "    y=df.Bronze,\n",
    "    name='Bronze',\n",
    "    marker={\n",
    "        'color': '#CD7F32'\n",
    "    }\n",
    ")\n",
    "\n",
    "trace_3 = go.Scatter(\n",
    "    x=df.NOC,\n",
    "    y=df.Total,\n",
    "    name='Total',\n",
    "    mode='markers+lines',\n",
    "    marker={\n",
    "        'color': 'white'\n",
    "    }\n",
    ")\n",
    "\n",
    "layout = go.Layout(\n",
    "    title='Total Medals in Winter Olympics 2018',\n",
    "    barmode='stack'\n",
    ")\n",
    "\n",
    "data = [trace_0, trace_1, trace_2, trace_3]\n",
    "fig = go.Figure(data=data, layout=layout)\n",
    "pyo.plot(fig, filename='temp-plot.html')"
   ],
   "metadata": {
    "collapsed": false
   }
  },
  {
   "cell_type": "code",
   "execution_count": 16,
   "outputs": [],
   "source": [
    "import altair as alt"
   ],
   "metadata": {
    "collapsed": false
   }
  },
  {
   "cell_type": "code",
   "execution_count": 23,
   "outputs": [
    {
     "name": "stderr",
     "output_type": "stream",
     "text": [
      "/home/sammy/.conda/envs/newConda/lib/python3.8/site-packages/altair/utils/core.py:283: FutureWarning:\n",
      "\n",
      "iteritems is deprecated and will be removed in a future version. Use .items instead.\n",
      "\n"
     ]
    },
    {
     "data": {
      "text/html": "\n<div id=\"altair-viz-0ccebb284aad44f9ad718f3c0b147aec\"></div>\n<script type=\"text/javascript\">\n  (function(spec, embedOpt){\n    let outputDiv = document.currentScript.previousElementSibling;\n    if (outputDiv.id !== \"altair-viz-0ccebb284aad44f9ad718f3c0b147aec\") {\n      outputDiv = document.getElementById(\"altair-viz-0ccebb284aad44f9ad718f3c0b147aec\");\n    }\n    const paths = {\n      \"vega\": \"https://cdn.jsdelivr.net/npm//vega@5?noext\",\n      \"vega-lib\": \"https://cdn.jsdelivr.net/npm//vega-lib?noext\",\n      \"vega-lite\": \"https://cdn.jsdelivr.net/npm//vega-lite@4.8.1?noext\",\n      \"vega-embed\": \"https://cdn.jsdelivr.net/npm//vega-embed@6?noext\",\n    };\n\n    function loadScript(lib) {\n      return new Promise(function(resolve, reject) {\n        var s = document.createElement('script');\n        s.src = paths[lib];\n        s.async = true;\n        s.onload = () => resolve(paths[lib]);\n        s.onerror = () => reject(`Error loading script: ${paths[lib]}`);\n        document.getElementsByTagName(\"head\")[0].appendChild(s);\n      });\n    }\n\n    function showError(err) {\n      outputDiv.innerHTML = `<div class=\"error\" style=\"color:red;\">${err}</div>`;\n      throw err;\n    }\n\n    function displayChart(vegaEmbed) {\n      vegaEmbed(outputDiv, spec, embedOpt)\n        .catch(err => showError(`Javascript Error: ${err.message}<br>This usually means there's a typo in your chart specification. See the javascript console for the full traceback.`));\n    }\n\n    if(typeof define === \"function\" && define.amd) {\n      requirejs.config({paths});\n      require([\"vega-embed\"], displayChart, err => showError(`Error loading script: ${err.message}`));\n    } else if (typeof vegaEmbed === \"function\") {\n      displayChart(vegaEmbed);\n    } else {\n      loadScript(\"vega\")\n        .then(() => loadScript(\"vega-lite\"))\n        .then(() => loadScript(\"vega-embed\"))\n        .catch(showError)\n        .then(() => displayChart(vegaEmbed));\n    }\n  })({\"config\": {\"view\": {\"continuousWidth\": 400, \"continuousHeight\": 300}}, \"data\": {\"name\": \"data-f346e8b356bbee69b7e2ff3f99f98ddf\"}, \"mark\": \"point\", \"encoding\": {\"x\": {\"type\": \"nominal\", \"field\": \"NOC\"}, \"y\": {\"type\": \"quantitative\", \"field\": \"Total\"}}, \"selection\": {\"selector006\": {\"type\": \"interval\", \"bind\": \"scales\", \"encodings\": [\"x\", \"y\"]}}, \"$schema\": \"https://vega.github.io/schema/vega-lite/v4.8.1.json\", \"datasets\": {\"data-f346e8b356bbee69b7e2ff3f99f98ddf\": [{\"Rank\": 1, \"NOC\": \"Norway\", \"Gold\": 14, \"Silver\": 14, \"Bronze\": 11, \"Total\": 39}, {\"Rank\": 2, \"NOC\": \"Germany\", \"Gold\": 14, \"Silver\": 10, \"Bronze\": 7, \"Total\": 31}, {\"Rank\": 3, \"NOC\": \"Canada\", \"Gold\": 11, \"Silver\": 8, \"Bronze\": 10, \"Total\": 29}, {\"Rank\": 4, \"NOC\": \"United States\", \"Gold\": 9, \"Silver\": 8, \"Bronze\": 6, \"Total\": 23}, {\"Rank\": 5, \"NOC\": \"Netherlands\", \"Gold\": 8, \"Silver\": 6, \"Bronze\": 6, \"Total\": 20}, {\"Rank\": 6, \"NOC\": \"Sweden\", \"Gold\": 7, \"Silver\": 6, \"Bronze\": 1, \"Total\": 14}, {\"Rank\": 7, \"NOC\": \"Republic of Korea\", \"Gold\": 5, \"Silver\": 8, \"Bronze\": 4, \"Total\": 17}, {\"Rank\": 8, \"NOC\": \"Switzerland\", \"Gold\": 5, \"Silver\": 6, \"Bronze\": 4, \"Total\": 15}, {\"Rank\": 9, \"NOC\": \"France\", \"Gold\": 5, \"Silver\": 4, \"Bronze\": 6, \"Total\": 15}, {\"Rank\": 10, \"NOC\": \"Austria\", \"Gold\": 5, \"Silver\": 3, \"Bronze\": 6, \"Total\": 14}, {\"Rank\": 11, \"NOC\": \"Japan\", \"Gold\": 4, \"Silver\": 5, \"Bronze\": 4, \"Total\": 13}, {\"Rank\": 12, \"NOC\": \"Italy\", \"Gold\": 3, \"Silver\": 2, \"Bronze\": 5, \"Total\": 10}, {\"Rank\": 13, \"NOC\": \"OAR\", \"Gold\": 2, \"Silver\": 6, \"Bronze\": 9, \"Total\": 17}, {\"Rank\": 14, \"NOC\": \"Czech Republic\", \"Gold\": 2, \"Silver\": 2, \"Bronze\": 3, \"Total\": 7}, {\"Rank\": 15, \"NOC\": \"Belarus\", \"Gold\": 2, \"Silver\": 1, \"Bronze\": 0, \"Total\": 3}, {\"Rank\": 16, \"NOC\": \"China\", \"Gold\": 1, \"Silver\": 6, \"Bronze\": 2, \"Total\": 9}, {\"Rank\": 17, \"NOC\": \"Slovakia\", \"Gold\": 1, \"Silver\": 2, \"Bronze\": 0, \"Total\": 3}, {\"Rank\": 18, \"NOC\": \"Finland\", \"Gold\": 1, \"Silver\": 1, \"Bronze\": 4, \"Total\": 6}, {\"Rank\": 19, \"NOC\": \"Great Britain\", \"Gold\": 1, \"Silver\": 0, \"Bronze\": 4, \"Total\": 5}, {\"Rank\": 20, \"NOC\": \"Poland\", \"Gold\": 1, \"Silver\": 0, \"Bronze\": 1, \"Total\": 2}, {\"Rank\": 21, \"NOC\": \"Hungary\", \"Gold\": 1, \"Silver\": 0, \"Bronze\": 0, \"Total\": 1}, {\"Rank\": 21, \"NOC\": \"Ukraine\", \"Gold\": 1, \"Silver\": 0, \"Bronze\": 0, \"Total\": 1}, {\"Rank\": 23, \"NOC\": \"Australia\", \"Gold\": 0, \"Silver\": 2, \"Bronze\": 1, \"Total\": 3}, {\"Rank\": 24, \"NOC\": \"Slovenia\", \"Gold\": 0, \"Silver\": 1, \"Bronze\": 1, \"Total\": 2}, {\"Rank\": 25, \"NOC\": \"Belgium\", \"Gold\": 0, \"Silver\": 1, \"Bronze\": 0, \"Total\": 1}, {\"Rank\": 26, \"NOC\": \"Spain\", \"Gold\": 0, \"Silver\": 0, \"Bronze\": 2, \"Total\": 2}, {\"Rank\": 26, \"NOC\": \"New Zealand\", \"Gold\": 0, \"Silver\": 0, \"Bronze\": 2, \"Total\": 2}, {\"Rank\": 28, \"NOC\": \"Kazakhstan\", \"Gold\": 0, \"Silver\": 0, \"Bronze\": 1, \"Total\": 1}, {\"Rank\": 28, \"NOC\": \"Latvia\", \"Gold\": 0, \"Silver\": 0, \"Bronze\": 1, \"Total\": 1}, {\"Rank\": 28, \"NOC\": \"Liechtenstein\", \"Gold\": 0, \"Silver\": 0, \"Bronze\": 1, \"Total\": 1}]}}, {\"mode\": \"vega-lite\"});\n</script>",
      "text/plain": "alt.Chart(...)"
     },
     "execution_count": 23,
     "metadata": {},
     "output_type": "execute_result"
    }
   ],
   "source": [
    "alt.Chart(data=df).mark_point().encode(\n",
    "    x = 'NOC:N',\n",
    "    y = 'Total:Q'\n",
    ").interactive()"
   ],
   "metadata": {
    "collapsed": false
   }
  },
  {
   "cell_type": "code",
   "execution_count": 25,
   "outputs": [
    {
     "data": {
      "text/plain": "'temp-plot.html'"
     },
     "execution_count": 25,
     "metadata": {},
     "output_type": "execute_result"
    }
   ],
   "source": [
    "trace_0 = go.Bar(\n",
    "    x=df.NOC,\n",
    "    y=df.Gold,\n",
    "    name='Gold',\n",
    "    marker={\n",
    "        'color': '#FFD700'\n",
    "    }\n",
    ")\n",
    "\n",
    "trace_1 = go.Bar(\n",
    "    x=df.NOC,\n",
    "    y=df.Silver,\n",
    "    name='Silver',\n",
    "    marker={\n",
    "        'color': '#9EA0A1'\n",
    "    }\n",
    ")\n",
    "\n",
    "trace_2 = go.Bar(\n",
    "    x=df.NOC,\n",
    "    y=df.Bronze,\n",
    "    name='Bronze',\n",
    "    marker={\n",
    "        'color': '#CD7F32'\n",
    "    }\n",
    ")\n",
    "\n",
    "trace_3 = go.Scatter(\n",
    "    x=df.NOC,\n",
    "    y=df.Total,\n",
    "    name='Total',\n",
    "    mode='markers+lines',\n",
    "    marker={\n",
    "        'color': 'white'\n",
    "    }\n",
    ")\n",
    "\n",
    "layout = go.Layout(\n",
    "    title='Total Medals in Winter Olympics 2018'\n",
    ")\n",
    "\n",
    "data = [trace_0, trace_1, trace_2, trace_3]\n",
    "fig = go.Figure(data=data, layout=layout)\n",
    "pyo.plot(fig, filename='temp-plot.html')"
   ],
   "metadata": {
    "collapsed": false
   }
  },
  {
   "cell_type": "code",
   "execution_count": 31,
   "outputs": [],
   "source": [
    "file = r'/home/sammy/Documents/GitHub/Plotly-Dashboards-with-Dash/Data/mocksurvey.csv'\n",
    "df = pd.read_csv(file).set_index('Unnamed: 0')"
   ],
   "metadata": {
    "collapsed": false
   }
  },
  {
   "cell_type": "code",
   "execution_count": 32,
   "outputs": [
    {
     "data": {
      "text/plain": "            Strongly Agree  Somewhat Agree  Neutral  Somewhat Disagree  \\\nUnnamed: 0                                                               \nQuestion 1            0.45            0.25     0.10               0.12   \nQuestion 2            0.12            0.07     0.48               0.18   \nQuestion 3            0.05            0.22     0.19               0.23   \n\n            Strongly Disagree  \nUnnamed: 0                     \nQuestion 1               0.08  \nQuestion 2               0.15  \nQuestion 3               0.31  ",
      "text/html": "<div>\n<style scoped>\n    .dataframe tbody tr th:only-of-type {\n        vertical-align: middle;\n    }\n\n    .dataframe tbody tr th {\n        vertical-align: top;\n    }\n\n    .dataframe thead th {\n        text-align: right;\n    }\n</style>\n<table border=\"1\" class=\"dataframe\">\n  <thead>\n    <tr style=\"text-align: right;\">\n      <th></th>\n      <th>Strongly Agree</th>\n      <th>Somewhat Agree</th>\n      <th>Neutral</th>\n      <th>Somewhat Disagree</th>\n      <th>Strongly Disagree</th>\n    </tr>\n    <tr>\n      <th>Unnamed: 0</th>\n      <th></th>\n      <th></th>\n      <th></th>\n      <th></th>\n      <th></th>\n    </tr>\n  </thead>\n  <tbody>\n    <tr>\n      <th>Question 1</th>\n      <td>0.45</td>\n      <td>0.25</td>\n      <td>0.10</td>\n      <td>0.12</td>\n      <td>0.08</td>\n    </tr>\n    <tr>\n      <th>Question 2</th>\n      <td>0.12</td>\n      <td>0.07</td>\n      <td>0.48</td>\n      <td>0.18</td>\n      <td>0.15</td>\n    </tr>\n    <tr>\n      <th>Question 3</th>\n      <td>0.05</td>\n      <td>0.22</td>\n      <td>0.19</td>\n      <td>0.23</td>\n      <td>0.31</td>\n    </tr>\n  </tbody>\n</table>\n</div>"
     },
     "execution_count": 32,
     "metadata": {},
     "output_type": "execute_result"
    }
   ],
   "source": [
    "df.head(3)"
   ],
   "metadata": {
    "collapsed": false
   }
  },
  {
   "cell_type": "code",
   "execution_count": 37,
   "outputs": [
    {
     "data": {
      "text/plain": "'temp-plot.html'"
     },
     "execution_count": 37,
     "metadata": {},
     "output_type": "execute_result"
    }
   ],
   "source": [
    "data = [\n",
    "    go.Bar(\n",
    "        x = df.index,\n",
    "        y = df[col],\n",
    "        orientation='v'\n",
    "    ) for col in df.columns\n",
    "]\n",
    "\n",
    "layout = go.Layout(\n",
    "    title='Excercise',\n",
    "    barmode='stack'\n",
    ")\n",
    "\n",
    "fig = go.Figure(data=data, layout=layout)\n",
    "pyo.plot(fig, filename='temp-plot.html')"
   ],
   "metadata": {
    "collapsed": false
   }
  },
  {
   "cell_type": "code",
   "execution_count": 29,
   "outputs": [
    {
     "data": {
      "text/plain": "Index(['Unnamed: 0', 'Strongly Agree', 'Somewhat Agree', 'Neutral',\n       'Somewhat Disagree', 'Strongly Disagree'],\n      dtype='object')"
     },
     "execution_count": 29,
     "metadata": {},
     "output_type": "execute_result"
    }
   ],
   "source": [
    "df.columns"
   ],
   "metadata": {
    "collapsed": false
   }
  },
  {
   "cell_type": "code",
   "execution_count": null,
   "outputs": [],
   "source": [],
   "metadata": {
    "collapsed": false
   }
  }
 ],
 "metadata": {
  "kernelspec": {
   "display_name": "Python 3",
   "language": "python",
   "name": "python3"
  },
  "language_info": {
   "codemirror_mode": {
    "name": "ipython",
    "version": 2
   },
   "file_extension": ".py",
   "mimetype": "text/x-python",
   "name": "python",
   "nbconvert_exporter": "python",
   "pygments_lexer": "ipython2",
   "version": "2.7.6"
  }
 },
 "nbformat": 4,
 "nbformat_minor": 0
}
